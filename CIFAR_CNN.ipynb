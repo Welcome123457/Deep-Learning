{
 "cells": [
  {
   "cell_type": "code",
   "execution_count": 6,
   "id": "024665dd-e6ed-438a-8c51-1391bbfcba15",
   "metadata": {},
   "outputs": [],
   "source": [
    "import numpy as np\n",
    "import pandas as pd\n",
    "import matplotlib.pyplot as plt\n",
    "import tensorflow as tf\n",
    "from tensorflow import keras\n",
    "from tensorflow.keras import datasets,layers,models"
   ]
  },
  {
   "cell_type": "code",
   "execution_count": 8,
   "id": "4ef81218-0a03-42b5-b640-dd63f74e96b6",
   "metadata": {},
   "outputs": [],
   "source": [
    "(x_train,y_train),(x_test,y_test)=keras.datasets.cifar10.load_data()"
   ]
  },
  {
   "cell_type": "code",
   "execution_count": 10,
   "id": "eb95995c-3b7a-4590-8127-d72e57102009",
   "metadata": {},
   "outputs": [
    {
     "data": {
      "text/plain": [
       "(50000, 32, 32, 3)"
      ]
     },
     "execution_count": 10,
     "metadata": {},
     "output_type": "execute_result"
    }
   ],
   "source": [
    "x_train.shape"
   ]
  },
  {
   "cell_type": "code",
   "execution_count": null,
   "id": "fd0f452c-bbfb-4eb3-82dc-b035b27466ef",
   "metadata": {},
   "outputs": [],
   "source": [
    " plt.imshow(x_train[6])"
   ]
  },
  {
   "cell_type": "code",
   "execution_count": null,
   "id": "9ec2069b-17f7-4568-9111-6162a8462d28",
   "metadata": {},
   "outputs": [],
   "source": [
    "y_train=y_train.reshape(-1,)\n",
    "y_train[:3]"
   ]
  },
  {
   "cell_type": "code",
   "execution_count": null,
   "id": "6cbbfb00-d99d-482e-95e9-78785a65299d",
   "metadata": {},
   "outputs": [],
   "source": [
    "classes=[\"airplane\",\"automobile\",\"bird\",\"cat\",\"bird\",\"cat\",\"deer\",\"frog\",\"horse\",\"ship\",\"tree\"]\n",
    "classes"
   ]
  },
  {
   "cell_type": "code",
   "execution_count": null,
   "id": "0eb750a2-8118-4cee-b66b-46538f1f7ae9",
   "metadata": {},
   "outputs": [],
   "source": [
    "def plot_sample(x,y,Index):\n",
    "    plt.figure(figsize=(10,7))\n",
    "    plt.imshow(x[Index])\n",
    "    plt.xlabel(classes(y[index]))\n"
   ]
  },
  {
   "cell_type": "code",
   "execution_count": null,
   "id": "4a6f060d-086f-438b-bc5d-e6e878448670",
   "metadata": {},
   "outputs": [],
   "source": [
    "x_train_scaled=x_train/255\n",
    "x_test_scaled=x_test/255"
   ]
  },
  {
   "cell_type": "code",
   "execution_count": null,
   "id": "8266c6c0-0b59-48b3-9721-0e93d98f4a8d",
   "metadata": {},
   "outputs": [],
   "source": [
    "x_test_scaled[0]"
   ]
  },
  {
   "cell_type": "code",
   "execution_count": null,
   "id": "ecc69b32-6e51-4b0e-b717-0e616d4fab4b",
   "metadata": {},
   "outputs": [],
   "source": [
    "x_train_scaled[0].shape"
   ]
  },
  {
   "cell_type": "code",
   "execution_count": null,
   "id": "cac51420-17cf-443e-8f82-edc6c276d88e",
   "metadata": {},
   "outputs": [],
   "source": [
    "y_train"
   ]
  },
  {
   "cell_type": "code",
   "execution_count": null,
   "id": "f4cb2ed0-b9af-43db-bf91-88fd669d01d4",
   "metadata": {},
   "outputs": [],
   "source": [
    "cnn=models.Sequential([\n",
    "    #CNN\n",
    "    layers.Conv2D(filters=32,kernel_size=(3,3), activation=\"relu\",input_shape=(32,32,3)),\n",
    "                  layers.MaxPooling2D((2,2)),\n",
    "    layers.Conv2D(filters=64,kernel_size=(3,3), activation=\"relu\",input_shape=(32,32,3)),\n",
    "                  layers.MaxPooling2D((2,2)),\n",
    "\n",
    "\n",
    "    \n",
    "    layers.Flatten(),\n",
    "    layers.Dense(120,activation=\"relu\"),\n",
    "    layers.Dropout(0.5),\n",
    "    layers.Dense(10,activation=\"softmax\"),\n",
    "])\n",
    "cnn.compile(optimizer=\"adam\",loss=\"sparse_categorical_crossentropy\",metrics=[\"accuracy\"])\n",
    "cnn.fit(x_train_scaled,y_train,epochs=2)"
   ]
  },
  {
   "cell_type": "code",
   "execution_count": null,
   "id": "aa1ec874-06ad-4efd-8170-426976bf4a66",
   "metadata": {},
   "outputs": [],
   "source": [
    "cnn.evaluate(x_test,y_test)"
   ]
  },
  {
   "cell_type": "code",
   "execution_count": null,
   "id": "17f7e399-4645-493f-9863-576e24053ff8",
   "metadata": {},
   "outputs": [],
   "source": [
    "y_p=cnn.predict(x_test)\n",
    "y_p[:3]"
   ]
  },
  {
   "cell_type": "code",
   "execution_count": null,
   "id": "552737eb-27d9-43f1-b1c4-2d6c601ee944",
   "metadata": {},
   "outputs": [],
   "source": [
    "y_classes=[np.argmax(element) for element in y_p]\n",
    "y_classes[:5]"
   ]
  },
  {
   "cell_type": "code",
   "execution_count": null,
   "id": "a0a575ad-0387-44dd-8e52-86a3712165b6",
   "metadata": {},
   "outputs": [],
   "source": [
    "y_test[:5]"
   ]
  },
  {
   "cell_type": "code",
   "execution_count": null,
   "id": "c6e94f0b-9c71-4d53-a9db-69aa81af87d8",
   "metadata": {},
   "outputs": [],
   "source": [
    "y_test=y_test.reshape(-1,)\n",
    "y_test"
   ]
  },
  {
   "cell_type": "code",
   "execution_count": null,
   "id": "772bb7e1-7a9a-4b7f-a327-a41cbf4d0cd2",
   "metadata": {},
   "outputs": [],
   "source": [
    "from sklearn.metrics import classification_report\n",
    "cl=classification_report(y_test,y_classes)"
   ]
  },
  {
   "cell_type": "code",
   "execution_count": null,
   "id": "8f093755-60a2-4bac-bed4-6c738bec567f",
   "metadata": {},
   "outputs": [],
   "source": [
    "print(cl)"
   ]
  }
 ],
 "metadata": {
  "kernelspec": {
   "display_name": "Python 3 (ipykernel)",
   "language": "python",
   "name": "python3"
  },
  "language_info": {
   "codemirror_mode": {
    "name": "ipython",
    "version": 3
   },
   "file_extension": ".py",
   "mimetype": "text/x-python",
   "name": "python",
   "nbconvert_exporter": "python",
   "pygments_lexer": "ipython3",
   "version": "3.12.4"
  }
 },
 "nbformat": 4,
 "nbformat_minor": 5
}
